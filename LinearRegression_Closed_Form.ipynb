{
 "cells": [
  {
   "cell_type": "code",
   "execution_count": 5,
   "metadata": {},
   "outputs": [],
   "source": [
    "import numpy as np\n",
    "from numpy.linalg import inv, LinAlgError\n",
    "import matplotlib.pyplot as plt"
   ]
  },
  {
   "cell_type": "code",
   "execution_count": 40,
   "metadata": {},
   "outputs": [],
   "source": [
    "class LinearRegression:\n",
    "    def __init__(self):\n",
    "        self._coefficients = None\n",
    "\n",
    "    # x is a matrix and y is a vector\n",
    "    def fit(self, X,y):\n",
    "        X = np.asarray(X)\n",
    "        y = np.asarray(y)\n",
    "\n",
    "        X = np.c_[np.ones(X.shape[0]), X]\n",
    "        try:\n",
    "            self._coefficients = inv(X.T @ X) @ X.T @ y \n",
    "        except LinAlgError:\n",
    "            raise ValueError(\"Matrices are not invertible\")\n",
    "\n",
    "    def predict(self, X):\n",
    "        if self._coefficients is None:\n",
    "            return \"Model is not trained yet\"\n",
    "        X = np.asarray(X)\n",
    "        X = np.c_[np.ones(X.shape[0]), X]  # Add intercept\n",
    "        return X @ self._coefficients\n",
    "\n",
    "    def print_coefficients(self):\n",
    "        return self._coefficients"
   ]
  },
  {
   "cell_type": "code",
   "execution_count": 41,
   "metadata": {},
   "outputs": [
    {
     "name": "stdout",
     "output_type": "stream",
     "text": [
      "Features:\n",
      " [[9.58473929 7.50271307 1.57902904]\n",
      " [3.20708773 0.82286922 4.41880731]\n",
      " [9.7105568  7.63903646 1.74678122]\n",
      " [2.12557492 6.78786829 9.00872414]\n",
      " [9.99179178 8.69814212 3.24930509]]\n",
      "Target:\n",
      " [45.58704736 14.99538961 44.6402079  29.56365047 50.26602682]\n"
     ]
    }
   ],
   "source": [
    "model = LinearRegression()\n",
    "# Generate 100 samples, 3 features (X) and corresponding target variable (y)\n",
    "X = np.random.rand(100, 3) * 10  # Features scaled between 0-10\n",
    "y = 3*X[:,0] + 2*X[:,1] + X[:,2] + np.random.normal(0, 1, 100)  # Linear relationship with noise\n",
    "\n",
    "print(\"Features:\\n\", X[:5])\n",
    "print(\"Target:\\n\", y[:5])"
   ]
  },
  {
   "cell_type": "code",
   "execution_count": 42,
   "metadata": {},
   "outputs": [],
   "source": [
    "model.fit(X,y)\n",
    "y_pred = model.predict(X)"
   ]
  },
  {
   "cell_type": "code",
   "execution_count": 43,
   "metadata": {},
   "outputs": [],
   "source": [
    "y_bar = y.mean()\n",
    "y_bar_array = np.full(len(y), y_bar)\n",
    "r_squared = 1 - (sum((y - y_pred)**2)/sum((y_pred - y_bar_array)**2))"
   ]
  },
  {
   "cell_type": "code",
   "execution_count": 44,
   "metadata": {},
   "outputs": [
    {
     "data": {
      "text/plain": [
       "0.9917985636440823"
      ]
     },
     "execution_count": 44,
     "metadata": {},
     "output_type": "execute_result"
    }
   ],
   "source": [
    "r_squared"
   ]
  },
  {
   "cell_type": "code",
   "execution_count": 45,
   "metadata": {},
   "outputs": [
    {
     "name": "stdout",
     "output_type": "stream",
     "text": [
      "[0.00857478 2.97575894 2.02971729 0.99869126]\n"
     ]
    }
   ],
   "source": [
    "print(model._coefficients)"
   ]
  },
  {
   "cell_type": "code",
   "execution_count": null,
   "metadata": {},
   "outputs": [],
   "source": []
  }
 ],
 "metadata": {
  "kernelspec": {
   "display_name": "base",
   "language": "python",
   "name": "python3"
  },
  "language_info": {
   "codemirror_mode": {
    "name": "ipython",
    "version": 3
   },
   "file_extension": ".py",
   "mimetype": "text/x-python",
   "name": "python",
   "nbconvert_exporter": "python",
   "pygments_lexer": "ipython3",
   "version": "3.11.5"
  }
 },
 "nbformat": 4,
 "nbformat_minor": 2
}
