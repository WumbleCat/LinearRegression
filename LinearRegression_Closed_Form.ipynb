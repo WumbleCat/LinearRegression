{
 "cells": [
  {
   "cell_type": "code",
   "execution_count": 7,
   "metadata": {},
   "outputs": [],
   "source": [
    "import numpy as np\n",
    "from scipy.linalg import inv\n",
    "import matplotlib.pyplot as plt"
   ]
  },
  {
   "cell_type": "code",
   "execution_count": 41,
   "metadata": {},
   "outputs": [],
   "source": [
    "class LinearRegression:\n",
    "    def __init__(self):\n",
    "        pass\n",
    "\n",
    "    # x is a matrix and y is a vector\n",
    "    def fit(self, X,y):\n",
    "        self._coefficients = inv(X.T @ X) @ X.T @ y \n",
    "\n",
    "    def predict(self, X):\n",
    "        return X @ self._coefficients \n"
   ]
  },
  {
   "cell_type": "code",
   "execution_count": 42,
   "metadata": {},
   "outputs": [
    {
     "name": "stdout",
     "output_type": "stream",
     "text": [
      "Features:\n",
      " [[7.5617322  6.70579831 2.93333789]\n",
      " [2.17312745 6.00673734 6.87717467]\n",
      " [4.53207168 0.72570549 5.11358049]\n",
      " [7.47800337 0.85468132 7.5448217 ]\n",
      " [6.63773774 7.70969439 7.46213751]]\n",
      "Target:\n",
      " [38.05163406 24.56457668 21.81714369 31.07450532 41.95433304]\n"
     ]
    }
   ],
   "source": [
    "model = LinearRegression()\n",
    "# Generate 100 samples, 3 features (X) and corresponding target variable (y)\n",
    "X = np.random.rand(100, 3) * 10  # Features scaled between 0-10\n",
    "y = 3*X[:,0] + 2*X[:,1] + X[:,2] + np.random.normal(0, 1, 100)  # Linear relationship with noise\n",
    "\n",
    "print(\"Features:\\n\", X[:5])\n",
    "print(\"Target:\\n\", y[:5])"
   ]
  },
  {
   "cell_type": "code",
   "execution_count": 43,
   "metadata": {},
   "outputs": [],
   "source": [
    "model.fit(X,y)\n",
    "y_pred = model.predict(X)"
   ]
  },
  {
   "cell_type": "code",
   "execution_count": 44,
   "metadata": {},
   "outputs": [],
   "source": [
    "y_bar = y.mean()\n",
    "y_bar_array = np.full(len(y), y_bar)\n",
    "r_squared = 1 - (sum((y - y_pred)**2)/sum((y_pred - y_bar_array)**2))"
   ]
  },
  {
   "cell_type": "code",
   "execution_count": 45,
   "metadata": {},
   "outputs": [
    {
     "data": {
      "text/plain": [
       "0.9907782202134195"
      ]
     },
     "execution_count": 45,
     "metadata": {},
     "output_type": "execute_result"
    }
   ],
   "source": [
    "r_squared"
   ]
  },
  {
   "cell_type": "code",
   "execution_count": null,
   "metadata": {},
   "outputs": [],
   "source": []
  }
 ],
 "metadata": {
  "kernelspec": {
   "display_name": "base",
   "language": "python",
   "name": "python3"
  },
  "language_info": {
   "codemirror_mode": {
    "name": "ipython",
    "version": 3
   },
   "file_extension": ".py",
   "mimetype": "text/x-python",
   "name": "python",
   "nbconvert_exporter": "python",
   "pygments_lexer": "ipython3",
   "version": "3.11.5"
  }
 },
 "nbformat": 4,
 "nbformat_minor": 2
}
